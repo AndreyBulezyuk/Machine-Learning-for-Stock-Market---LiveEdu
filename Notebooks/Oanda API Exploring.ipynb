{
 "cells": [
  {
   "cell_type": "code",
   "execution_count": 6,
   "metadata": {},
   "outputs": [],
   "source": [
    "import oandaapi\n",
    "import pprint"
   ]
  },
  {
   "cell_type": "code",
   "execution_count": 8,
   "metadata": {},
   "outputs": [
    {
     "name": "stdout",
     "output_type": "stream",
     "text": [
      "{'prices': [{'asks': [{'liquidity': 50,\n",
      "                       'price': '12126.9'},\n",
      "                      {'liquidity': 50,\n",
      "                       'price': '12127.0'},\n",
      "                      {'liquidity': 50,\n",
      "                       'price': '12127.2'},\n",
      "                      {'liquidity': 50,\n",
      "                       'price': '12127.4'}],\n",
      "             'bids': [{'liquidity': 25,\n",
      "                       'price': '12124.0'},\n",
      "                      {'liquidity': 25,\n",
      "                       'price': '12123.9'},\n",
      "                      {'liquidity': 50,\n",
      "                       'price': '12123.8'},\n",
      "                      {'liquidity': 50,\n",
      "                       'price': '12123.6'},\n",
      "                      {'liquidity': 50,\n",
      "                       'price': '12123.4'}],\n",
      "             'closeoutAsk': '12127.4',\n",
      "             'closeoutBid': '12123.4',\n",
      "             'instrument': 'DE30_EUR',\n",
      "             'quoteHomeConversionFactors': {'negativeUnits': '1.00000000',\n",
      "                                            'positiveUnits': '1.00000000'},\n",
      "             'status': 'non-tradeable',\n",
      "             'time': '2018-09-14T19:59:00.902942963Z',\n",
      "             'tradeable': False,\n",
      "             'type': 'PRICE',\n",
      "             'unitsAvailable': {'default': {'long': '0',\n",
      "                                            'short': '0'},\n",
      "                                'openOnly': {'long': '0',\n",
      "                                             'short': '0'},\n",
      "                                'reduceFirst': {'long': '0',\n",
      "                                                'short': '0'},\n",
      "                                'reduceOnly': {'long': '0',\n",
      "                                               'short': '0'}}},\n",
      "            {'asks': [{'liquidity': 10000000,\n",
      "                       'price': '0.88990'},\n",
      "                      {'liquidity': 10000000,\n",
      "                       'price': '0.89003'}],\n",
      "             'bids': [{'liquidity': 10000000,\n",
      "                       'price': '0.88890'},\n",
      "                      {'liquidity': 10000000,\n",
      "                       'price': '0.88876'}],\n",
      "             'closeoutAsk': '0.89003',\n",
      "             'closeoutBid': '0.88876',\n",
      "             'instrument': 'EUR_GBP',\n",
      "             'quoteHomeConversionFactors': {'negativeUnits': '1.12498594',\n",
      "                                            'positiveUnits': '1.12372177'},\n",
      "             'status': 'non-tradeable',\n",
      "             'time': '2018-09-14T20:59:57.782716422Z',\n",
      "             'tradeable': False,\n",
      "             'type': 'PRICE',\n",
      "             'unitsAvailable': {'default': {'long': '1504',\n",
      "                                            'short': '1504'},\n",
      "                                'openOnly': {'long': '1504',\n",
      "                                             'short': '1504'},\n",
      "                                'reduceFirst': {'long': '1504',\n",
      "                                                'short': '1504'},\n",
      "                                'reduceOnly': {'long': '0',\n",
      "                                               'short': '0'}}}],\n",
      " 'time': '2018-09-15T08:31:43.006065306Z'}\n"
     ]
    }
   ],
   "source": [
    "import json\n",
    "from oandapyV20 import API    # the client\n",
    "import oandapyV20.endpoints.pricing as pricing\n",
    "\n",
    "pp = pprint.PrettyPrinter(width=41, compact=True)\n",
    "\n",
    "access_token = oandaapi.oandaAPI\n",
    "accountID = \"001-004-1129934-001\"\n",
    "client = API(access_token=access_token, environment=\"live\")\n",
    "\n",
    "params = { \"instruments\": \"DE30_EUR,EUR_GBP\" }\n",
    "prices = pricing.PricingInfo(accountID, params=params)\n",
    "prices = client.request(prices)\n",
    "\n",
    "pp.pprint(prices)"
   ]
  },
  {
   "cell_type": "code",
   "execution_count": null,
   "metadata": {
    "collapsed": true
   },
   "outputs": [],
   "source": []
  }
 ],
 "metadata": {
  "kernelspec": {
   "display_name": "Python 3",
   "language": "python",
   "name": "python3"
  },
  "language_info": {
   "codemirror_mode": {
    "name": "ipython",
    "version": 3
   },
   "file_extension": ".py",
   "mimetype": "text/x-python",
   "name": "python",
   "nbconvert_exporter": "python",
   "pygments_lexer": "ipython3",
   "version": "3.6.3"
  }
 },
 "nbformat": 4,
 "nbformat_minor": 2
}
